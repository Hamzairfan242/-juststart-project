{
 "cells": [
  {
   "cell_type": "code",
   "execution_count": 115,
   "metadata": {},
   "outputs": [],
   "source": [
    "import numpy as np\n",
    "import pandas as pd\n",
    "import sklearn\n",
    "from keras import models\n",
    "from keras import layers\n",
    "from keras.models import Sequential\n",
    "from keras.layers import Dense\n",
    "from keras.optimizers import rmsprop\n",
    "from sklearn.preprocessing import LabelEncoder\n",
    "from sklearn.model_selection import train_test_split\n",
    "from sklearn.metrics import classification_report, confusion_matrix\n",
    "from sklearn import utils\n",
    "from sklearn.model_selection import KFold"
   ]
  },
  {
   "cell_type": "code",
   "execution_count": 117,
   "metadata": {},
   "outputs": [
    {
     "data": {
      "text/html": [
       "<div>\n",
       "<style scoped>\n",
       "    .dataframe tbody tr th:only-of-type {\n",
       "        vertical-align: middle;\n",
       "    }\n",
       "\n",
       "    .dataframe tbody tr th {\n",
       "        vertical-align: top;\n",
       "    }\n",
       "\n",
       "    .dataframe thead th {\n",
       "        text-align: right;\n",
       "    }\n",
       "</style>\n",
       "<table border=\"1\" class=\"dataframe\">\n",
       "  <thead>\n",
       "    <tr style=\"text-align: right;\">\n",
       "      <th></th>\n",
       "      <th>Pregnancies</th>\n",
       "      <th>Glucose</th>\n",
       "      <th>BloodPressure</th>\n",
       "      <th>SkinThickness</th>\n",
       "      <th>Insulin</th>\n",
       "      <th>BMI</th>\n",
       "      <th>DiabetesPedigreeFunction</th>\n",
       "      <th>Age</th>\n",
       "      <th>Outcome</th>\n",
       "    </tr>\n",
       "  </thead>\n",
       "  <tbody>\n",
       "    <tr>\n",
       "      <th>494</th>\n",
       "      <td>3</td>\n",
       "      <td>80</td>\n",
       "      <td>0</td>\n",
       "      <td>0</td>\n",
       "      <td>0</td>\n",
       "      <td>0.0</td>\n",
       "      <td>0.174</td>\n",
       "      <td>22</td>\n",
       "      <td>0</td>\n",
       "    </tr>\n",
       "    <tr>\n",
       "      <th>727</th>\n",
       "      <td>0</td>\n",
       "      <td>141</td>\n",
       "      <td>84</td>\n",
       "      <td>26</td>\n",
       "      <td>0</td>\n",
       "      <td>32.4</td>\n",
       "      <td>0.433</td>\n",
       "      <td>22</td>\n",
       "      <td>0</td>\n",
       "    </tr>\n",
       "    <tr>\n",
       "      <th>557</th>\n",
       "      <td>8</td>\n",
       "      <td>110</td>\n",
       "      <td>76</td>\n",
       "      <td>0</td>\n",
       "      <td>0</td>\n",
       "      <td>27.8</td>\n",
       "      <td>0.237</td>\n",
       "      <td>58</td>\n",
       "      <td>0</td>\n",
       "    </tr>\n",
       "    <tr>\n",
       "      <th>640</th>\n",
       "      <td>0</td>\n",
       "      <td>102</td>\n",
       "      <td>86</td>\n",
       "      <td>17</td>\n",
       "      <td>105</td>\n",
       "      <td>29.3</td>\n",
       "      <td>0.695</td>\n",
       "      <td>27</td>\n",
       "      <td>0</td>\n",
       "    </tr>\n",
       "    <tr>\n",
       "      <th>276</th>\n",
       "      <td>7</td>\n",
       "      <td>106</td>\n",
       "      <td>60</td>\n",
       "      <td>24</td>\n",
       "      <td>0</td>\n",
       "      <td>26.5</td>\n",
       "      <td>0.296</td>\n",
       "      <td>29</td>\n",
       "      <td>1</td>\n",
       "    </tr>\n",
       "    <tr>\n",
       "      <th>...</th>\n",
       "      <td>...</td>\n",
       "      <td>...</td>\n",
       "      <td>...</td>\n",
       "      <td>...</td>\n",
       "      <td>...</td>\n",
       "      <td>...</td>\n",
       "      <td>...</td>\n",
       "      <td>...</td>\n",
       "      <td>...</td>\n",
       "    </tr>\n",
       "    <tr>\n",
       "      <th>321</th>\n",
       "      <td>3</td>\n",
       "      <td>112</td>\n",
       "      <td>74</td>\n",
       "      <td>30</td>\n",
       "      <td>0</td>\n",
       "      <td>31.6</td>\n",
       "      <td>0.197</td>\n",
       "      <td>25</td>\n",
       "      <td>1</td>\n",
       "    </tr>\n",
       "    <tr>\n",
       "      <th>123</th>\n",
       "      <td>5</td>\n",
       "      <td>132</td>\n",
       "      <td>80</td>\n",
       "      <td>0</td>\n",
       "      <td>0</td>\n",
       "      <td>26.8</td>\n",
       "      <td>0.186</td>\n",
       "      <td>69</td>\n",
       "      <td>0</td>\n",
       "    </tr>\n",
       "    <tr>\n",
       "      <th>479</th>\n",
       "      <td>4</td>\n",
       "      <td>132</td>\n",
       "      <td>86</td>\n",
       "      <td>31</td>\n",
       "      <td>0</td>\n",
       "      <td>28.0</td>\n",
       "      <td>0.419</td>\n",
       "      <td>63</td>\n",
       "      <td>0</td>\n",
       "    </tr>\n",
       "    <tr>\n",
       "      <th>476</th>\n",
       "      <td>2</td>\n",
       "      <td>105</td>\n",
       "      <td>80</td>\n",
       "      <td>45</td>\n",
       "      <td>191</td>\n",
       "      <td>33.7</td>\n",
       "      <td>0.711</td>\n",
       "      <td>29</td>\n",
       "      <td>1</td>\n",
       "    </tr>\n",
       "    <tr>\n",
       "      <th>744</th>\n",
       "      <td>13</td>\n",
       "      <td>153</td>\n",
       "      <td>88</td>\n",
       "      <td>37</td>\n",
       "      <td>140</td>\n",
       "      <td>40.6</td>\n",
       "      <td>1.174</td>\n",
       "      <td>39</td>\n",
       "      <td>0</td>\n",
       "    </tr>\n",
       "  </tbody>\n",
       "</table>\n",
       "<p>768 rows × 9 columns</p>\n",
       "</div>"
      ],
      "text/plain": [
       "     Pregnancies  Glucose  BloodPressure  SkinThickness  Insulin   BMI  \\\n",
       "494            3       80              0              0        0   0.0   \n",
       "727            0      141             84             26        0  32.4   \n",
       "557            8      110             76              0        0  27.8   \n",
       "640            0      102             86             17      105  29.3   \n",
       "276            7      106             60             24        0  26.5   \n",
       "..           ...      ...            ...            ...      ...   ...   \n",
       "321            3      112             74             30        0  31.6   \n",
       "123            5      132             80              0        0  26.8   \n",
       "479            4      132             86             31        0  28.0   \n",
       "476            2      105             80             45      191  33.7   \n",
       "744           13      153             88             37      140  40.6   \n",
       "\n",
       "     DiabetesPedigreeFunction  Age  Outcome  \n",
       "494                     0.174   22        0  \n",
       "727                     0.433   22        0  \n",
       "557                     0.237   58        0  \n",
       "640                     0.695   27        0  \n",
       "276                     0.296   29        1  \n",
       "..                        ...  ...      ...  \n",
       "321                     0.197   25        1  \n",
       "123                     0.186   69        0  \n",
       "479                     0.419   63        0  \n",
       "476                     0.711   29        1  \n",
       "744                     1.174   39        0  \n",
       "\n",
       "[768 rows x 9 columns]"
      ]
     },
     "execution_count": 117,
     "metadata": {},
     "output_type": "execute_result"
    }
   ],
   "source": [
    "dia=pd.read_csv('diabetes.csv')\n",
    "# dia.head()\n",
    "# dia=dia.iloc[np.random.permutation(len(dia))] #https://stackoverflow.com/questions/29576430/shuffle-dataframe-rows\n",
    "                                                           # see upper link                \n",
    "dia= sklearn.utils.shuffle(dia)    \n",
    "dia\n"
   ]
  },
  {
   "cell_type": "code",
   "execution_count": 125,
   "metadata": {},
   "outputs": [
    {
     "name": "stdout",
     "output_type": "stream",
     "text": [
      "train shape: (537, 9)\n",
      "validate: (77, 9)\n",
      "test shape: (154, 9)\n",
      "data shape: (768, 9)\n"
     ]
    }
   ],
   "source": [
    "train, validate, test = np.split(dia.sample(frac=1), [int(.7*len(dia)), int(0.8*len(dia))])\n",
    "print('train shape:',train.shape)\n",
    "print('validate:',validate.shape)\n",
    "print('test shape:',test.shape)\n",
    "print('data shape:',dia.shape)\n",
    "X_train = train.iloc[:,0:-1].values\n",
    "y_train= train.iloc[:,-1].values\n",
    "encoder =  LabelEncoder()\n",
    "y_train= encoder.fit_transform(y_train)\n",
    "Y_train = pd.get_dummies(y_train).values\n",
    "##########################\n",
    "X_test = test.iloc[:,0:-1].values\n",
    "y_test= test.iloc[:,-1].values\n",
    "encoder =  LabelEncoder()\n",
    "y_test= encoder.fit_transform(y_test)\n",
    "Y_test = pd.get_dummies(y_test).values\n",
    "##########################\n",
    "X_validate = validate.iloc[:,0:-1].values\n",
    "y_validate= validate.iloc[:,-1].values\n",
    "encoder =  LabelEncoder()\n",
    "y_validate= encoder.fit_transform(y_validate)\n",
    "Y_validate = pd.get_dummies(y_validate).values\n",
    "\n",
    "\n"
   ]
  },
  {
   "cell_type": "code",
   "execution_count": 131,
   "metadata": {},
   "outputs": [],
   "source": [
    "model = Sequential()\n",
    "model.add(Dense(16,input_shape=(8,), activation='relu') )\n",
    "model.add(layers.Dropout(0.4))\n",
    "model.add(Dense(16,activation='relu'))\n",
    "model.add(layers.Dropout(0.4))\n",
    "model.add(Dense(2,activation='sigmoid')) \n",
    "model.compile(optimizer='rmsprop',loss='binary_crossentropy',metrics=['accuracy'])\n",
    "#####################################################################################\n"
   ]
  },
  {
   "cell_type": "code",
   "execution_count": 132,
   "metadata": {},
   "outputs": [
    {
     "name": "stdout",
     "output_type": "stream",
     "text": [
      "Train on 537 samples, validate on 77 samples\n",
      "Epoch 1/20\n",
      "537/537 [==============================] - 3s 5ms/step - loss: 7.1489 - accuracy: 0.5428 - val_loss: 1.0735 - val_accuracy: 0.6104\n",
      "Epoch 2/20\n",
      "537/537 [==============================] - 2s 3ms/step - loss: 2.8585 - accuracy: 0.5419 - val_loss: 0.7733 - val_accuracy: 0.5974\n",
      "Epoch 3/20\n",
      "537/537 [==============================] - 2s 3ms/step - loss: 1.5292 - accuracy: 0.6127 - val_loss: 0.7137 - val_accuracy: 0.6234\n",
      "Epoch 4/20\n",
      "537/537 [==============================] - 2s 3ms/step - loss: 1.0315 - accuracy: 0.6192 - val_loss: 0.6899 - val_accuracy: 0.5649\n",
      "Epoch 5/20\n",
      "537/537 [==============================] - 2s 3ms/step - loss: 1.0072 - accuracy: 0.6350 - val_loss: 0.6838 - val_accuracy: 0.5649\n",
      "Epoch 6/20\n",
      "537/537 [==============================] - 2s 3ms/step - loss: 0.8108 - accuracy: 0.6508 - val_loss: 0.6835 - val_accuracy: 0.5584\n",
      "Epoch 7/20\n",
      "537/537 [==============================] - 2s 4ms/step - loss: 0.8596 - accuracy: 0.6564 - val_loss: 0.6980 - val_accuracy: 0.5584\n",
      "Epoch 8/20\n",
      "537/537 [==============================] - 2s 3ms/step - loss: 0.7811 - accuracy: 0.6480 - val_loss: 0.6516 - val_accuracy: 0.5584\n",
      "Epoch 9/20\n",
      "537/537 [==============================] - 2s 4ms/step - loss: 0.7260 - accuracy: 0.6574 - val_loss: 0.6789 - val_accuracy: 0.5584\n",
      "Epoch 10/20\n",
      "537/537 [==============================] - 2s 4ms/step - loss: 0.8131 - accuracy: 0.6536 - val_loss: 0.6348 - val_accuracy: 0.5584\n",
      "Epoch 11/20\n",
      "537/537 [==============================] - 2s 3ms/step - loss: 0.8745 - accuracy: 0.6574 - val_loss: 0.6447 - val_accuracy: 0.5584\n",
      "Epoch 12/20\n",
      "537/537 [==============================] - 2s 3ms/step - loss: 0.8532 - accuracy: 0.6601 - val_loss: 0.6770 - val_accuracy: 0.5584\n",
      "Epoch 13/20\n",
      "537/537 [==============================] - 2s 3ms/step - loss: 0.7510 - accuracy: 0.6592 - val_loss: 0.6834 - val_accuracy: 0.5584\n",
      "Epoch 14/20\n",
      "537/537 [==============================] - 2s 4ms/step - loss: 0.8229 - accuracy: 0.6462 - val_loss: 0.7241 - val_accuracy: 0.5584\n",
      "Epoch 15/20\n",
      "537/537 [==============================] - 2s 3ms/step - loss: 0.7936 - accuracy: 0.6527 - val_loss: 0.6709 - val_accuracy: 0.5584\n",
      "Epoch 16/20\n",
      "537/537 [==============================] - 2s 3ms/step - loss: 0.7652 - accuracy: 0.6574 - val_loss: 0.6966 - val_accuracy: 0.5584\n",
      "Epoch 17/20\n",
      "537/537 [==============================] - 2s 3ms/step - loss: 0.7493 - accuracy: 0.6518 - val_loss: 0.6854 - val_accuracy: 0.5584\n",
      "Epoch 18/20\n",
      "537/537 [==============================] - 2s 3ms/step - loss: 0.7653 - accuracy: 0.6564 - val_loss: 0.6590 - val_accuracy: 0.5584\n",
      "Epoch 19/20\n",
      "537/537 [==============================] - 2s 3ms/step - loss: 0.7606 - accuracy: 0.6592 - val_loss: 0.6323 - val_accuracy: 0.5584\n",
      "Epoch 20/20\n",
      "537/537 [==============================] - 2s 4ms/step - loss: 0.7707 - accuracy: 0.6490 - val_loss: 0.6640 - val_accuracy: 0.5584\n"
     ]
    }
   ],
   "source": [
    "history=model.fit(X_train, Y_train, epochs=20,batch_size=1,validation_data=(X_validate,Y_validate))\n"
   ]
  },
  {
   "cell_type": "code",
   "execution_count": 112,
   "metadata": {},
   "outputs": [
    {
     "name": "stdout",
     "output_type": "stream",
     "text": [
      "154/154 [==============================] - 0s 125us/step\n",
      "test_acc: 0.6753246784210205\n",
      "test_loss: 0.6355037650504669\n",
      "train_acc: 0.6430169\n",
      "val_acc: 0.6285714149475098\n"
     ]
    }
   ],
   "source": [
    "test_loss, test_acc = model.evaluate(X_test,y_test)\n",
    "print('test_acc:', test_acc)\n",
    "print('test_loss:',test_loss)\n",
    "acc = history.history['accuracy']\n",
    "val_acc = history.history['val_accuracy']\n",
    "print('train_acc:', np.mean(acc) )\n",
    "print('val_acc:',np.mean(val_acc))\n",
    "history_dict=history.history\n",
    "# DF=pd.DataFrame(history_dict)\n",
    "# DF\n",
    "#export_csv = DF.to_csv (r'C:\\Users\\Muhammad hamza\\Desktop\\export_dataframe.csv', index = None, header=True)"
   ]
  },
  {
   "cell_type": "code",
   "execution_count": 113,
   "metadata": {},
   "outputs": [
    {
     "data": {
      "image/png": "[encoded data removed]",
      "text/plain": [
       "<Figure size 432x288 with 1 Axes>"
      ]
     },
     "metadata": {
      "needs_background": "light"
     },
     "output_type": "display_data"
    },
    {
     "data": {
      "text/plain": [
       "<Figure size 432x288 with 0 Axes>"
      ]
     },
     "metadata": {},
     "output_type": "display_data"
    }
   ],
   "source": [
    "import matplotlib.pyplot as plt\n",
    "loss = history.history['loss']\n",
    "val_loss = history.history['val_loss']\n",
    "epochs = range(1, len(loss) + 1)\n",
    "plt.plot(epochs, loss, 'bo', label='Training loss')\n",
    "plt.plot(epochs, val_loss, 'b', label='Validation loss')\n",
    "plt.title('Training and validation loss')\n",
    "plt.xlabel('Epochs')\n",
    "plt.ylabel('Loss')\n",
    "plt.legend()\n",
    "plt.show()\n",
    "plt.clf()"
   ]
  },
  {
   "cell_type": "code",
   "execution_count": 114,
   "metadata": {},
   "outputs": [
    {
     "data": {
      "image/png": "[encoded data removed]",
      "text/plain": [
       "<Figure size 432x288 with 1 Axes>"
      ]
     },
     "metadata": {
      "needs_background": "light"
     },
     "output_type": "display_data"
    }
   ],
   "source": [
    "acc = history.history['accuracy']\n",
    "val_acc = history.history['val_accuracy']\n",
    "plt.plot(epochs, acc, 'bo', label='Training acc')\n",
    "plt.plot(epochs, val_acc, 'b', label='Validation acc')\n",
    "plt.title('Training and validation accuracy')\n",
    "plt.xlabel('Epochs')\n",
    "plt.ylabel('Accuracy')\n",
    "plt.legend()\n",
    "plt.show()"
   ]
  },
  {
   "cell_type": "code",
   "execution_count": null,
   "metadata": {},
   "outputs": [],
   "source": []
  }
 ],
 "metadata": {
  "kernelspec": {
   "display_name": "Python 3",
   "language": "python",
   "name": "python3"
  },
  "language_info": {
   "codemirror_mode": {
    "name": "ipython",
    "version": 3
   },
   "file_extension": ".py",
   "mimetype": "text/x-python",
   "name": "python",
   "nbconvert_exporter": "python",
   "pygments_lexer": "ipython3",
   "version": "3.7.3"
  }
 },
 "nbformat": 4,
 "nbformat_minor": 2
}
